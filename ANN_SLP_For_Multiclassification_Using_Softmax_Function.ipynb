{
  "nbformat": 4,
  "nbformat_minor": 0,
  "metadata": {
    "colab": {
      "name": "ANN/SLP For Multiclassification Using Softmax Function",
      "provenance": [],
      "authorship_tag": "ABX9TyOqsOZLeFyEFI+a8zWaQSgd",
      "include_colab_link": true
    },
    "kernelspec": {
      "name": "python3",
      "display_name": "Python 3"
    }
  },
  "cells": [
    {
      "cell_type": "markdown",
      "metadata": {
        "id": "view-in-github",
        "colab_type": "text"
      },
      "source": [
        "<a href=\"https://colab.research.google.com/github/akhilkapil/ANN-SLP-For-Multi-Classification/blob/master/ANN_SLP_For_Multiclassification_Using_Softmax_Function.ipynb\" target=\"_parent\"><img src=\"https://colab.research.google.com/assets/colab-badge.svg\" alt=\"Open In Colab\"/></a>"
      ]
    },
    {
      "cell_type": "code",
      "metadata": {
        "id": "KUg80pCGhucp",
        "colab_type": "code",
        "colab": {
          "base_uri": "https://localhost:8080/",
          "height": 71
        },
        "outputId": "e211cbb9-20c9-4ae7-8990-b8e070813aba"
      },
      "source": [
        "import pandas as pd \n",
        "import numpy as np \n",
        "import matplotlib.pyplot as plt\n",
        "%matplotlib inline\n",
        "import seaborn as sns"
      ],
      "execution_count": null,
      "outputs": [
        {
          "output_type": "stream",
          "text": [
            "/usr/local/lib/python3.6/dist-packages/statsmodels/tools/_testing.py:19: FutureWarning: pandas.util.testing is deprecated. Use the functions in the public API at pandas.testing instead.\n",
            "  import pandas.util.testing as tm\n"
          ],
          "name": "stderr"
        }
      ]
    },
    {
      "cell_type": "code",
      "metadata": {
        "id": "tNkqo8_9S9ik",
        "colab_type": "code",
        "colab": {
          "base_uri": "https://localhost:8080/",
          "height": 34
        },
        "outputId": "1738116d-d9ab-43fd-fa1f-36e0dc919297"
      },
      "source": [
        "from google.colab import drive\n",
        "drive.mount('/content/drive')"
      ],
      "execution_count": null,
      "outputs": [
        {
          "output_type": "stream",
          "text": [
            "Mounted at /content/drive\n"
          ],
          "name": "stdout"
        }
      ]
    },
    {
      "cell_type": "code",
      "metadata": {
        "id": "5MTe4NQ2ic5V",
        "colab_type": "code",
        "colab": {
          "base_uri": "https://localhost:8080/",
          "height": 204
        },
        "outputId": "a5a581a5-f1f4-405a-f4f9-2d169e414dca"
      },
      "source": [
        "data = pd.read_csv('/content/drive/My Drive/Data/zoo.csv')\n",
        "data.head()"
      ],
      "execution_count": null,
      "outputs": [
        {
          "output_type": "execute_result",
          "data": {
            "text/html": [
              "<div>\n",
              "<style scoped>\n",
              "    .dataframe tbody tr th:only-of-type {\n",
              "        vertical-align: middle;\n",
              "    }\n",
              "\n",
              "    .dataframe tbody tr th {\n",
              "        vertical-align: top;\n",
              "    }\n",
              "\n",
              "    .dataframe thead th {\n",
              "        text-align: right;\n",
              "    }\n",
              "</style>\n",
              "<table border=\"1\" class=\"dataframe\">\n",
              "  <thead>\n",
              "    <tr style=\"text-align: right;\">\n",
              "      <th></th>\n",
              "      <th>animal_name</th>\n",
              "      <th>hair</th>\n",
              "      <th>feathers</th>\n",
              "      <th>eggs</th>\n",
              "      <th>milk</th>\n",
              "      <th>airborne</th>\n",
              "      <th>aquatic</th>\n",
              "      <th>predator</th>\n",
              "      <th>toothed</th>\n",
              "      <th>backbone</th>\n",
              "      <th>breathes</th>\n",
              "      <th>venomous</th>\n",
              "      <th>fins</th>\n",
              "      <th>legs</th>\n",
              "      <th>tail</th>\n",
              "      <th>domestic</th>\n",
              "      <th>catsize</th>\n",
              "      <th>class_type</th>\n",
              "    </tr>\n",
              "  </thead>\n",
              "  <tbody>\n",
              "    <tr>\n",
              "      <th>0</th>\n",
              "      <td>aardvark</td>\n",
              "      <td>1</td>\n",
              "      <td>0</td>\n",
              "      <td>0</td>\n",
              "      <td>1</td>\n",
              "      <td>0</td>\n",
              "      <td>0</td>\n",
              "      <td>1</td>\n",
              "      <td>1</td>\n",
              "      <td>1</td>\n",
              "      <td>1</td>\n",
              "      <td>0</td>\n",
              "      <td>0</td>\n",
              "      <td>4</td>\n",
              "      <td>0</td>\n",
              "      <td>0</td>\n",
              "      <td>1</td>\n",
              "      <td>1</td>\n",
              "    </tr>\n",
              "    <tr>\n",
              "      <th>1</th>\n",
              "      <td>antelope</td>\n",
              "      <td>1</td>\n",
              "      <td>0</td>\n",
              "      <td>0</td>\n",
              "      <td>1</td>\n",
              "      <td>0</td>\n",
              "      <td>0</td>\n",
              "      <td>0</td>\n",
              "      <td>1</td>\n",
              "      <td>1</td>\n",
              "      <td>1</td>\n",
              "      <td>0</td>\n",
              "      <td>0</td>\n",
              "      <td>4</td>\n",
              "      <td>1</td>\n",
              "      <td>0</td>\n",
              "      <td>1</td>\n",
              "      <td>1</td>\n",
              "    </tr>\n",
              "    <tr>\n",
              "      <th>2</th>\n",
              "      <td>bass</td>\n",
              "      <td>0</td>\n",
              "      <td>0</td>\n",
              "      <td>1</td>\n",
              "      <td>0</td>\n",
              "      <td>0</td>\n",
              "      <td>1</td>\n",
              "      <td>1</td>\n",
              "      <td>1</td>\n",
              "      <td>1</td>\n",
              "      <td>0</td>\n",
              "      <td>0</td>\n",
              "      <td>1</td>\n",
              "      <td>0</td>\n",
              "      <td>1</td>\n",
              "      <td>0</td>\n",
              "      <td>0</td>\n",
              "      <td>4</td>\n",
              "    </tr>\n",
              "    <tr>\n",
              "      <th>3</th>\n",
              "      <td>bear</td>\n",
              "      <td>1</td>\n",
              "      <td>0</td>\n",
              "      <td>0</td>\n",
              "      <td>1</td>\n",
              "      <td>0</td>\n",
              "      <td>0</td>\n",
              "      <td>1</td>\n",
              "      <td>1</td>\n",
              "      <td>1</td>\n",
              "      <td>1</td>\n",
              "      <td>0</td>\n",
              "      <td>0</td>\n",
              "      <td>4</td>\n",
              "      <td>0</td>\n",
              "      <td>0</td>\n",
              "      <td>1</td>\n",
              "      <td>1</td>\n",
              "    </tr>\n",
              "    <tr>\n",
              "      <th>4</th>\n",
              "      <td>boar</td>\n",
              "      <td>1</td>\n",
              "      <td>0</td>\n",
              "      <td>0</td>\n",
              "      <td>1</td>\n",
              "      <td>0</td>\n",
              "      <td>0</td>\n",
              "      <td>1</td>\n",
              "      <td>1</td>\n",
              "      <td>1</td>\n",
              "      <td>1</td>\n",
              "      <td>0</td>\n",
              "      <td>0</td>\n",
              "      <td>4</td>\n",
              "      <td>1</td>\n",
              "      <td>0</td>\n",
              "      <td>1</td>\n",
              "      <td>1</td>\n",
              "    </tr>\n",
              "  </tbody>\n",
              "</table>\n",
              "</div>"
            ],
            "text/plain": [
              "  animal_name  hair  feathers  eggs  ...  tail  domestic  catsize  class_type\n",
              "0    aardvark     1         0     0  ...     0         0        1           1\n",
              "1    antelope     1         0     0  ...     1         0        1           1\n",
              "2        bass     0         0     1  ...     1         0        0           4\n",
              "3        bear     1         0     0  ...     0         0        1           1\n",
              "4        boar     1         0     0  ...     1         0        1           1\n",
              "\n",
              "[5 rows x 18 columns]"
            ]
          },
          "metadata": {
            "tags": []
          },
          "execution_count": 4
        }
      ]
    },
    {
      "cell_type": "code",
      "metadata": {
        "id": "Gx7UFbnOjDLH",
        "colab_type": "code",
        "colab": {
          "base_uri": "https://localhost:8080/",
          "height": 255
        },
        "outputId": "619697cf-a2c3-425a-d0c9-3dd144b59f45"
      },
      "source": [
        "#Spliting the target and independent variables\n",
        "X = data.iloc[:,:-1]\n",
        "y = data.iloc[:,-1:]\n",
        "print(y)"
      ],
      "execution_count": null,
      "outputs": [
        {
          "output_type": "stream",
          "text": [
            "     class_type\n",
            "0             1\n",
            "1             1\n",
            "2             4\n",
            "3             1\n",
            "4             1\n",
            "..          ...\n",
            "96            1\n",
            "97            6\n",
            "98            1\n",
            "99            7\n",
            "100           2\n",
            "\n",
            "[101 rows x 1 columns]\n"
          ],
          "name": "stdout"
        }
      ]
    },
    {
      "cell_type": "code",
      "metadata": {
        "id": "vQiYWNkWjLpH",
        "colab_type": "code",
        "colab": {}
      },
      "source": [
        "from sklearn.model_selection import train_test_split\n",
        "\n",
        "X_train, X_test, y_train, y_test = train_test_split(X,y, test_size=0.3, stratify=y)"
      ],
      "execution_count": null,
      "outputs": []
    },
    {
      "cell_type": "code",
      "metadata": {
        "id": "N7xuXS-8jkHf",
        "colab_type": "code",
        "colab": {
          "base_uri": "https://localhost:8080/",
          "height": 51
        },
        "outputId": "bcd63c6f-3139-4d72-92dd-8913d56f1900"
      },
      "source": [
        "#Drop the animals animal column from both the dataset\n",
        "train_name = X_train['animal_name']\n",
        "test_name = X_test['animal_name']\n",
        "\n",
        "X_train = X_train.iloc[:,1:]\n",
        "X_test = X_test.iloc[:,1:]\n",
        "\n",
        "print(\"Training Data has\",X_train.shape)\n",
        "print(\"Testing Data has\",X_test.shape)"
      ],
      "execution_count": null,
      "outputs": [
        {
          "output_type": "stream",
          "text": [
            "Training Data has (70, 16)\n",
            "Testing Data has (31, 16)\n"
          ],
          "name": "stdout"
        }
      ]
    },
    {
      "cell_type": "markdown",
      "metadata": {
        "id": "WqdOmctZkCxp",
        "colab_type": "text"
      },
      "source": [
        "Make ANN/SLP *Model*"
      ]
    },
    {
      "cell_type": "code",
      "metadata": {
        "id": "3Vtqf0H_kLRl",
        "colab_type": "code",
        "colab": {}
      },
      "source": [
        "#Lets make placeholders for dynamic variable allocation\n",
        "import tensorflow as tf"
      ],
      "execution_count": null,
      "outputs": []
    },
    {
      "cell_type": "code",
      "metadata": {
        "id": "Oi_92OFJl3va",
        "colab_type": "code",
        "colab": {}
      },
      "source": [
        "tf.compat.v1.disable_eager_execution()"
      ],
      "execution_count": null,
      "outputs": []
    },
    {
      "cell_type": "markdown",
      "metadata": {
        "id": "-BA-wM2vkVwn",
        "colab_type": "text"
      },
      "source": [
        "#Lets make placeholders for dynamic variable allocation\n",
        "\n",
        "Placeholder is one of the function in tensorflow. It is a space to put and change values while the program is running.\n",
        "\n",
        "for X, a place must have 16 columns, since zoo data has 16 features.\n",
        "\n",
        "for Y, a place must have 1 columns, since the results has 1 outcome.\n",
        "\n",
        "If you see the row \"None\", it means it has no size limits. (You can write -1 instead of \"None\")"
      ]
    },
    {
      "cell_type": "code",
      "metadata": {
        "id": "QDcimuhekiQ3",
        "colab_type": "code",
        "colab": {
          "base_uri": "https://localhost:8080/",
          "height": 34
        },
        "outputId": "89d75a11-5f81-4333-e09a-2d2727a78c0c"
      },
      "source": [
        "import tensorflow as tf\n",
        "\n",
        "X = tf.compat.v1.placeholder(tf.float32,[None, 16])\n",
        "Y = tf.compat.v1.placeholder(tf.int32,[None, 1])\n",
        "print(X)"
      ],
      "execution_count": null,
      "outputs": [
        {
          "output_type": "stream",
          "text": [
            "Tensor(\"Placeholder_12:0\", shape=(None, 16), dtype=float32)\n"
          ],
          "name": "stdout"
        }
      ]
    },
    {
      "cell_type": "code",
      "metadata": {
        "id": "DzUlLzd3RNyX",
        "colab_type": "code",
        "colab": {}
      },
      "source": [
        ""
      ],
      "execution_count": null,
      "outputs": []
    },
    {
      "cell_type": "code",
      "metadata": {
        "id": "JRHUARdLn3f6",
        "colab_type": "code",
        "colab": {
          "base_uri": "https://localhost:8080/",
          "height": 34
        },
        "outputId": "d48aec14-f5f1-41a3-dcd1-de0a55b2dc8b"
      },
      "source": [
        "#We have to change our target varibale to one-hot-encoding as it will be much easier for our machine to learn from it \n",
        "y_encoded = tf.compat.v1.one_hot(Y, 7)\n",
        "y_encoded = tf.reshape(y_encoded, shape=[-1,7])\n",
        "print(y_encoded)"
      ],
      "execution_count": null,
      "outputs": [
        {
          "output_type": "stream",
          "text": [
            "Tensor(\"Reshape_5:0\", shape=(None, 7), dtype=float32)\n"
          ],
          "name": "stdout"
        }
      ]
    },
    {
      "cell_type": "code",
      "metadata": {
        "id": "yX-Vbt9rimjM",
        "colab_type": "code",
        "colab": {}
      },
      "source": [
        "#Make Weigh, Bias variable with random values only\n",
        "\n",
        "W = tf.compat.v1.Variable(tf.compat.v1.random_normal([16,7], seed=0), name='weight')\n",
        "B = tf.compat.v1.Variable(tf.compat.v1.random_normal([7], seed=0), name='bias')\n"
      ],
      "execution_count": null,
      "outputs": []
    },
    {
      "cell_type": "code",
      "metadata": {
        "id": "ffjYrcjypDOU",
        "colab_type": "code",
        "colab": {
          "base_uri": "https://localhost:8080/",
          "height": 34
        },
        "outputId": "0bee1d2a-0ee9-4f8b-e4db-888ba42dd5b3"
      },
      "source": [
        "#Make output result\n",
        "logits = tf.compat.v1.matmul(X,W) + B\n",
        "hypothesis = tf.nn.softmax(logits)\n",
        "cost_i = tf.compat.v1.nn.softmax_cross_entropy_with_logits_v2(logits=logits, labels=y_encoded)\n",
        "cost = tf.reduce_mean(cost_i)\n",
        "print(cost_i)"
      ],
      "execution_count": null,
      "outputs": [
        {
          "output_type": "stream",
          "text": [
            "Tensor(\"softmax_cross_entropy_with_logits_6/Reshape_2:0\", shape=(None,), dtype=float32)\n"
          ],
          "name": "stdout"
        }
      ]
    },
    {
      "cell_type": "code",
      "metadata": {
        "id": "7nX8JYnzpVYg",
        "colab_type": "code",
        "colab": {}
      },
      "source": [
        "#Now our cost function is ready now we will apply our optimizer\n",
        "\n",
        "train =tf.compat.v1.train.GradientDescentOptimizer(learning_rate=0.05).minimize(loss=cost)"
      ],
      "execution_count": null,
      "outputs": []
    },
    {
      "cell_type": "code",
      "metadata": {
        "id": "vXwWfc2qqL4-",
        "colab_type": "code",
        "colab": {}
      },
      "source": [
        " #Now Lets compare Original Vs Prediction\n",
        "\n",
        " prediction = tf.argmax(hypothesis,1)\n",
        " correct_predictions = tf.equal(prediction, tf.argmax(y_encoded,1))\n",
        " accuracy = tf.reduce_mean(tf.cast(correct_predictions, tf.float32))"
      ],
      "execution_count": null,
      "outputs": []
    },
    {
      "cell_type": "code",
      "metadata": {
        "id": "P5h9PGxkrgpD",
        "colab_type": "code",
        "colab": {
          "base_uri": "https://localhost:8080/",
          "height": 323
        },
        "outputId": "2a8e1887-3063-4114-d0c2-d7abc1aa3093"
      },
      "source": [
        "#Activate the model\n",
        "\n",
        "with tf.compat.v1.Session() as sess:\n",
        "  sess.run(tf.compat.v1.global_variables_initializer())\n",
        "  for step in range(5001):\n",
        "    sess.run(train, feed_dict={X:X_train, Y:y_train})\n",
        "    if step % 1000 == 0:\n",
        "      loss, acc = sess.run([cost,accuracy], feed_dict={X: X_train, Y: y_train})\n",
        "      print(\"Step: {:5}\\tLoss: {:.3f}\\tAcc: {:.2%}\".format(step, loss, acc))\n",
        "      train_acc = sess.run(accuracy, feed_dict={X:X_train, Y: y_train})\n",
        "      test_acc, test_predict, test_correct = sess.run([accuracy,prediction,correct_predictions], feed_dict={X:X_train, Y: y_train})\n",
        "      print('Train predictions: ', train_acc)\n",
        "      print('Test predictions: ', test_acc)"
      ],
      "execution_count": null,
      "outputs": [
        {
          "output_type": "stream",
          "text": [
            "Step:     0\tLoss: 3.391\tAcc: 27.14%\n",
            "Train predictions:  0.27142859\n",
            "Test predictions:  0.27142859\n",
            "Step:  1000\tLoss: 0.110\tAcc: 90.00%\n",
            "Train predictions:  0.9\n",
            "Test predictions:  0.9\n",
            "Step:  2000\tLoss: 0.054\tAcc: 91.43%\n",
            "Train predictions:  0.9142857\n",
            "Test predictions:  0.9142857\n",
            "Step:  3000\tLoss: 0.036\tAcc: 91.43%\n",
            "Train predictions:  0.9142857\n",
            "Test predictions:  0.9142857\n",
            "Step:  4000\tLoss: 0.028\tAcc: 91.43%\n",
            "Train predictions:  0.9142857\n",
            "Test predictions:  0.9142857\n",
            "Step:  5000\tLoss: 0.023\tAcc: 91.43%\n",
            "Train predictions:  0.9142857\n",
            "Test predictions:  0.9142857\n"
          ],
          "name": "stdout"
        }
      ]
    },
    {
      "cell_type": "code",
      "metadata": {
        "id": "Z4tGY_DRtUah",
        "colab_type": "code",
        "colab": {
          "base_uri": "https://localhost:8080/",
          "height": 85
        },
        "outputId": "49baf848-44b2-4de3-e782-7d1e090290ef"
      },
      "source": [
        "test_predict"
      ],
      "execution_count": null,
      "outputs": [
        {
          "output_type": "execute_result",
          "data": {
            "text/plain": [
              "array([1, 1, 4, 4, 1, 2, 6, 1, 1, 1, 2, 4, 4, 1, 2, 1, 4, 2, 4, 4, 1, 3,\n",
              "       1, 6, 1, 6, 5, 1, 1, 3, 1, 2, 6, 2, 2, 5, 3, 1, 2, 4, 1, 1, 6, 1,\n",
              "       1, 5, 3, 6, 4, 6, 4, 2, 6, 2, 0, 1, 2, 1, 1, 2, 5, 2, 1, 2, 1, 6,\n",
              "       1, 1, 1, 1])"
            ]
          },
          "metadata": {
            "tags": []
          },
          "execution_count": 94
        }
      ]
    },
    {
      "cell_type": "code",
      "metadata": {
        "id": "aS46Gpwczwg7",
        "colab_type": "code",
        "colab": {}
      },
      "source": [
        ""
      ],
      "execution_count": null,
      "outputs": []
    }
  ]
}